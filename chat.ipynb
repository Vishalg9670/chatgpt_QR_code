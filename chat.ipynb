{
 "cells": [
  {
   "cell_type": "markdown",
   "id": "6dabdd6e-2d5c-4092-a6a6-15217829fb53",
   "metadata": {},
   "source": [
    "***Creating Chatgpt QRcode***\n",
    "\n"
   ]
  },
  {
   "cell_type": "code",
   "execution_count": null,
   "id": "4491a7da-e5d4-4ab3-b39b-c2ff65c48ece",
   "metadata": {},
   "outputs": [],
   "source": [
    "#importing Qrcode module\n",
    "import qrcode \n",
    "#importing PIL For changing the color,size of the QR code\n",
    "from PIL import Image\n",
    "#creting the size,border and error detection of qrcode\n",
    "qr=qrcode.QRCode(version=1,error_correction=qrcode.constants.ERROR_CORRECT_H,box_size=10,border=3 )\n",
    "#taking the url of chatgpt\n",
    "qr.add_data(\"https://chatgpt.com/c/66f05893-4b98-8008-a14a-d8d172ed183f\")\n",
    "qr.make(fit=True)\n",
    "#creatin the image of qrcode with color white and Blue\n",
    "img=qr.make_image(fill_color=\"blue\",back_color=\"white\")\n",
    "#Savin the image in png form \n",
    "img.save(\"Chatgpt_Web_QRcode.png\")"
   ]
  }
 ],
 "metadata": {
  "kernelspec": {
   "display_name": "Python 3 (ipykernel)",
   "language": "python",
   "name": "python3"
  },
  "language_info": {
   "codemirror_mode": {
    "name": "ipython",
    "version": 3
   },
   "file_extension": ".py",
   "mimetype": "text/x-python",
   "name": "python",
   "nbconvert_exporter": "python",
   "pygments_lexer": "ipython3",
   "version": "3.11.7"
  }
 },
 "nbformat": 4,
 "nbformat_minor": 5
}
